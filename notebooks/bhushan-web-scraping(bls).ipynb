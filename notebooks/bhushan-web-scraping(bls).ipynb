{
 "cells": [
  {
   "cell_type": "code",
   "execution_count": 12,
   "metadata": {},
   "outputs": [],
   "source": [
    "import requests\n",
    "import pandas as pd\n",
    "import bs4 as bs\n",
    "import matplotlib.pyplot as plt\n",
    "import urllib.request"
   ]
  },
  {
   "cell_type": "code",
   "execution_count": 13,
   "metadata": {},
   "outputs": [],
   "source": [
    "url = \"https://www.bls.gov/ooh/\"\n",
    "source = urllib.request.urlopen(url).read()\n",
    "soup = bs.BeautifulSoup(source, \"lxml\")"
   ]
  },
  {
   "cell_type": "code",
   "execution_count": 14,
   "metadata": {},
   "outputs": [],
   "source": [
    "lst = []\n",
    "for uls in soup.find_all('ul', {'class': 'ooh-groups-col'}):\n",
    "    for lis in uls.find_all('li'):\n",
    "        lst.append(lis.text.lstrip(' ').rstrip(' ').replace(' ','-').replace(',',''))"
   ]
  },
  {
   "cell_type": "code",
   "execution_count": 15,
   "metadata": {},
   "outputs": [
    {
     "name": "stdout",
     "output_type": "stream",
     "text": [
      "['Architecture-and-Engineering', 'Arts-and-Design', 'Building-and-Grounds-Cleaning', 'Business-and-Financial', 'Community-and-Social-Service', 'Computer-and-Information-Technology', 'Construction-and-Extraction', 'Education-Training-and-Library', 'Entertainment-and-Sports', 'Farming-Fishing-and-Forestry', 'Food-Preparation-and-Serving', 'Healthcare', 'Installation-Maintenance-and-Repair', 'Legal', 'Life-Physical-and-Social-Science', 'Management', 'Math', 'Media-and-Communication', 'Military', 'Office-and-Administrative-Support', 'Personal-Care-and-Service', 'Production', 'Protective-Service', 'Sales', 'Transportation-and-Material-Moving']\n"
     ]
    }
   ],
   "source": [
    "print(lst)"
   ]
  },
  {
   "cell_type": "code",
   "execution_count": 16,
   "metadata": {},
   "outputs": [],
   "source": [
    "base_url = \"https://www.bls.gov/ooh/\"\n",
    "tail = \"/home.htm\""
   ]
  },
  {
   "cell_type": "code",
   "execution_count": 17,
   "metadata": {},
   "outputs": [],
   "source": [
    "df = pd.DataFrame()\n",
    "for i in lst:\n",
    "    url = base_url+i+tail\n",
    "    dfs = pd.read_html(url)\n",
    "    df = df.append(dfs[0])"
   ]
  },
  {
   "cell_type": "code",
   "execution_count": 18,
   "metadata": {},
   "outputs": [],
   "source": [
    "df = df.drop(['Unnamed: 0'], axis=1)"
   ]
  },
  {
   "cell_type": "code",
   "execution_count": 20,
   "metadata": {},
   "outputs": [],
   "source": [
    "df.to_csv('web-scraping-bls.csv')"
   ]
  },
  {
   "cell_type": "code",
   "execution_count": null,
   "metadata": {},
   "outputs": [],
   "source": []
  }
 ],
 "metadata": {
  "kernelspec": {
   "display_name": "Python 3",
   "language": "python",
   "name": "python3"
  },
  "language_info": {
   "codemirror_mode": {
    "name": "ipython",
    "version": 3
   },
   "file_extension": ".py",
   "mimetype": "text/x-python",
   "name": "python",
   "nbconvert_exporter": "python",
   "pygments_lexer": "ipython3",
   "version": "3.7.5"
  }
 },
 "nbformat": 4,
 "nbformat_minor": 2
}
