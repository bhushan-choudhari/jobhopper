{
 "cells": [
  {
   "cell_type": "code",
   "execution_count": 12,
   "metadata": {},
   "outputs": [],
   "source": [
    "import requests\n",
    "import pandas as pd\n",
    "import bs4 as bs\n",
    "import matplotlib.pyplot as plt\n",
    "import urllib.request"
   ]
  },
  {
   "cell_type": "code",
   "execution_count": 13,
   "metadata": {},
   "outputs": [],
   "source": [
    "url = \"https://www.bls.gov/ooh/\"\n",
    "source = urllib.request.urlopen(url).read()\n",
    "soup = bs.BeautifulSoup(source, \"lxml\")"
   ]
  },
  {
   "cell_type": "code",
   "execution_count": 14,
   "metadata": {},
   "outputs": [],
   "source": [
    "lst = []\n",
    "for uls in soup.find_all('ul', {'class': 'ooh-groups-col'}):\n",
    "    for lis in uls.find_all('li'):\n",
    "        lst.append(lis.text.lstrip(' ').rstrip(' ').replace(' ','-').replace(',',''))"
   ]
  },
  {
   "cell_type": "code",
   "execution_count": 15,
   "metadata": {},
   "outputs": [
    {
     "name": "stdout",
     "output_type": "stream",
     "text": [
      "['Architecture-and-Engineering', 'Arts-and-Design', 'Building-and-Grounds-Cleaning', 'Business-and-Financial', 'Community-and-Social-Service', 'Computer-and-Information-Technology', 'Construction-and-Extraction', 'Education-Training-and-Library', 'Entertainment-and-Sports', 'Farming-Fishing-and-Forestry', 'Food-Preparation-and-Serving', 'Healthcare', 'Installation-Maintenance-and-Repair', 'Legal', 'Life-Physical-and-Social-Science', 'Management', 'Math', 'Media-and-Communication', 'Military', 'Office-and-Administrative-Support', 'Personal-Care-and-Service', 'Production', 'Protective-Service', 'Sales', 'Transportation-and-Material-Moving']\n"
     ]
    }
   ],
   "source": [
    "print(lst)"
   ]
  },
  {
   "cell_type": "code",
   "execution_count": 16,
   "metadata": {},
   "outputs": [],
   "source": [
    "base_url = \"https://www.bls.gov/ooh/\"\n",
    "tail = \"/home.htm\""
   ]
  },
  {
   "cell_type": "code",
   "execution_count": 17,
   "metadata": {},
   "outputs": [],
   "source": [
    "df = pd.DataFrame()\n",
    "for i in lst:\n",
    "    url = base_url+i+tail\n",
    "    dfs = pd.read_html(url)\n",
    "    df = df.append(dfs[0])"
   ]
  },
  {
   "cell_type": "code",
   "execution_count": 18,
   "metadata": {},
   "outputs": [],
   "source": [
    "df = df.drop(['Unnamed: 0'], axis=1)"
   ]
  },
  {
   "cell_type": "code",
   "execution_count": 19,
   "metadata": {},
   "outputs": [
    {
     "data": {
      "text/html": [
       "<div>\n",
       "<style scoped>\n",
       "    .dataframe tbody tr th:only-of-type {\n",
       "        vertical-align: middle;\n",
       "    }\n",
       "\n",
       "    .dataframe tbody tr th {\n",
       "        vertical-align: top;\n",
       "    }\n",
       "\n",
       "    .dataframe thead th {\n",
       "        text-align: right;\n",
       "    }\n",
       "</style>\n",
       "<table border=\"1\" class=\"dataframe\">\n",
       "  <thead>\n",
       "    <tr style=\"text-align: right;\">\n",
       "      <th></th>\n",
       "      <th>OCCUPATION</th>\n",
       "      <th>JOB SUMMARY</th>\n",
       "      <th>ENTRY-LEVEL EDUCATION</th>\n",
       "      <th>2019 MEDIAN PAY</th>\n",
       "    </tr>\n",
       "  </thead>\n",
       "  <tbody>\n",
       "    <tr>\n",
       "      <th>0</th>\n",
       "      <td>Aerospace Engineering and Operations Technicians</td>\n",
       "      <td>Aerospace engineering and operations technicia...</td>\n",
       "      <td>Associate's degree</td>\n",
       "      <td>$66,020</td>\n",
       "    </tr>\n",
       "    <tr>\n",
       "      <th>1</th>\n",
       "      <td>Aerospace Engineers</td>\n",
       "      <td>Aerospace engineers design primarily aircraft,...</td>\n",
       "      <td>Bachelor's degree</td>\n",
       "      <td>$116,500</td>\n",
       "    </tr>\n",
       "    <tr>\n",
       "      <th>2</th>\n",
       "      <td>Agricultural Engineers</td>\n",
       "      <td>Agricultural engineers solve problems concerni...</td>\n",
       "      <td>Bachelor's degree</td>\n",
       "      <td>$80,720</td>\n",
       "    </tr>\n",
       "    <tr>\n",
       "      <th>3</th>\n",
       "      <td>Architects</td>\n",
       "      <td>Architects plan and design houses, factories, ...</td>\n",
       "      <td>Bachelor's degree</td>\n",
       "      <td>$80,750</td>\n",
       "    </tr>\n",
       "    <tr>\n",
       "      <th>4</th>\n",
       "      <td>Biomedical Engineers</td>\n",
       "      <td>Biomedical engineers combine engineering princ...</td>\n",
       "      <td>Bachelor's degree</td>\n",
       "      <td>$91,410</td>\n",
       "    </tr>\n",
       "  </tbody>\n",
       "</table>\n",
       "</div>"
      ],
      "text/plain": [
       "                                         OCCUPATION  \\\n",
       "0  Aerospace Engineering and Operations Technicians   \n",
       "1                               Aerospace Engineers   \n",
       "2                            Agricultural Engineers   \n",
       "3                                        Architects   \n",
       "4                              Biomedical Engineers   \n",
       "\n",
       "                                         JOB SUMMARY ENTRY-LEVEL EDUCATION  \\\n",
       "0  Aerospace engineering and operations technicia...    Associate's degree   \n",
       "1  Aerospace engineers design primarily aircraft,...     Bachelor's degree   \n",
       "2  Agricultural engineers solve problems concerni...     Bachelor's degree   \n",
       "3  Architects plan and design houses, factories, ...     Bachelor's degree   \n",
       "4  Biomedical engineers combine engineering princ...     Bachelor's degree   \n",
       "\n",
       "  2019 MEDIAN PAY  \n",
       "0         $66,020  \n",
       "1        $116,500  \n",
       "2         $80,720  \n",
       "3         $80,750  \n",
       "4         $91,410  "
      ]
     },
     "execution_count": 19,
     "metadata": {},
     "output_type": "execute_result"
    }
   ],
   "source": [
    "df.head()"
   ]
  },
  {
   "cell_type": "code",
   "execution_count": 20,
   "metadata": {},
   "outputs": [],
   "source": [
    "df.to_csv('web-scraping-bls.csv')"
   ]
  },
  {
   "cell_type": "code",
   "execution_count": null,
   "metadata": {},
   "outputs": [],
   "source": []
  }
 ],
 "metadata": {
  "kernelspec": {
   "display_name": "Python 3",
   "language": "python",
   "name": "python3"
  },
  "language_info": {
   "codemirror_mode": {
    "name": "ipython",
    "version": 3
   },
   "file_extension": ".py",
   "mimetype": "text/x-python",
   "name": "python",
   "nbconvert_exporter": "python",
   "pygments_lexer": "ipython3",
   "version": "3.7.5"
  }
 },
 "nbformat": 4,
 "nbformat_minor": 2
}
